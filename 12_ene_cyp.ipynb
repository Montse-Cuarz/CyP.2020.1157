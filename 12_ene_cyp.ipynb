{
  "nbformat": 4,
  "nbformat_minor": 0,
  "metadata": {
    "colab": {
      "name": "12_ene_cyp.ipynb",
      "provenance": [],
      "authorship_tag": "ABX9TyNwmHlw3UwTbEfmZmkB4y0J",
      "include_colab_link": true
    },
    "kernelspec": {
      "name": "python3",
      "display_name": "Python 3"
    }
  },
  "cells": [
    {
      "cell_type": "markdown",
      "metadata": {
        "id": "view-in-github",
        "colab_type": "text"
      },
      "source": [
        "<a href=\"https://colab.research.google.com/github/Montse-Cuarz/CyP.2020.1157/blob/main/12_ene_cyp.ipynb\" target=\"_parent\"><img src=\"https://colab.research.google.com/assets/colab-badge.svg\" alt=\"Open In Colab\"/></a>"
      ]
    },
    {
      "cell_type": "markdown",
      "metadata": {
        "id": "q7ueOZsKpS2h"
      },
      "source": [
        "# Introduccion a Python\r\n",
        "- Creado en los 90´s por Guido Van Rossum.\r\n",
        "- En el 2000, python mejora y tiene  nuevas caracteristicas. \r\n",
        "- En el 2020, deja de ser la version oficial python 2.7 y solo se le dará soporte a python 3 en adelante.\r\n",
        "## Caracteristicas de python\r\n",
        "1. Lenguaje de proposito general.\r\n",
        "2. Interpretado y no-Compilado.\r\n",
        "3. Tipo de dato dinámicos. (númericos, de cadena, bool, entre otros)\r\n",
        "4. Multiplataforma. (Adaptable a distintos S.O)\r\n",
        "5. Lenguaje multi-paradigma. (Imperativa,  POO y funcional)\r\n",
        "6. Código es estructurado por indentación. \r\n",
        "```\r\n",
        "if a > 10:\r\n",
        "    print (\"Hola\")\r\n",
        "print(\"Hola dos\")\r\n",
        "```\r\n",
        "\r\n",
        "## Principios Zen de Python\r\n",
        "\r\n",
        "Son las caracteristicas que guian el diseño del lenguaje de programacion Python\r\n",
        "\r\n",
        "\r\n",
        "\r\n",
        "\r\n"
      ]
    },
    {
      "cell_type": "code",
      "metadata": {
        "id": "qMq_S0qRutRK"
      },
      "source": [
        "#Primer programa en Python 3\r\n",
        "\r\n",
        "nombre =\"Montse\"\r\n",
        "edad= 18\r\n",
        "print(\"Hola\",nombre, edad)"
      ],
      "execution_count": null,
      "outputs": []
    },
    {
      "cell_type": "markdown",
      "metadata": {
        "id": "upS2qyvIvs2K"
      },
      "source": [
        "#La función print()\r\n",
        "\r\n",
        "Es una de las funciones mas empleadas en programacion y busca enviar datos a la salida estandar (monitor)\r\n",
        "\r\n",
        "### Formas de uso\r\n",
        "1. Con comas.\r\n",
        "2. Con signos +\r\n",
        "3. .format()\r\n",
        "4. el operador f\"    \"\r\n",
        "\r\n",
        "#### Con comas\r\n",
        "Concatena los argumentos enviados a print y les agrega un espacio\r\n",
        "\r\n",
        "#### Con signo +\r\n",
        "Concatena los valores sin espacio y sin hacer conversion de tipos\r\n",
        "\r\n",
        "#### Con la función format()\r\n",
        "Permite darle formtao a la salida de la impresión de variables. Emplea la función format de el tipo de dato String. \r\n",
        "```\r\n",
        "\" cadena {} a {} forma{}tear \".format(v1,v2,vn)\r\n",
        "```\r\n",
        "\r\n",
        "Emplea como comodines para sustituir valores los signos {}\r\n",
        "\r\n",
        "#### Con el operador f\" \"\r\n",
        "Es una variante de la forma anterior pero enmas carando la función format().\r\n",
        "```\r\n",
        "print(f\" {var} {var2} {varn}\")\r\n",
        "```"
      ]
    },
    {
      "cell_type": "code",
      "metadata": {
        "id": "nZK5y032wUU1"
      },
      "source": [
        "print(\"Hola\", nombre, edad)\r\n",
        "print(\"Hola \" + nombre +\" \"+ str(edad))\r\n",
        "# Nombre: Jose con una edad de: 18 años\r\n",
        "print(\"Nombre:\",nombre, \"con una edad de:\", edad, \"años\")\r\n",
        "print(\"Nombre: \"+ nombre + \" con una edad de: \" + str(edad) + \" años\")\r\n",
        "#con format()\r\n",
        "print(\"Nombre: {0} con una edad de: {1} años\". format(nombre,edad))\r\n",
        "#con el operador f\"\r\n",
        "print(f\"Nombre: {nombre} con una edad de: {edad} años\")"
      ],
      "execution_count": null,
      "outputs": []
    },
    {
      "cell_type": "markdown",
      "metadata": {
        "id": "eK49_Y8X2Qqn"
      },
      "source": [
        "#Funcion print() y los caracteres de escape\r\n",
        "- \\n salto de lina\r\n",
        "- \\t tabulador\r\n",
        "- \\\\ imprimir la diagonal \\\r\n",
        "- \\ ' y \\ \" \r\n",
        "- \\uxxxx\r\n",
        "- \\uxxxxxxxx\r\n"
      ]
    },
    {
      "cell_type": "code",
      "metadata": {
        "id": "y7lQXnEz2fqk"
      },
      "source": [
        "print('\"')\r\n",
        "print(\"\\\"\")\r\n",
        "print(\"Nombre: Montse\\n\\tcon una \\\\edad de: 18 años\")\r\n",
        "#caracteres unicode\r\n",
        "\r\n",
        "print(\"Hola \\u2661\")\r\n",
        "print(\"\\u553F\")\r\n"
      ],
      "execution_count": null,
      "outputs": []
    },
    {
      "cell_type": "markdown",
      "metadata": {
        "id": "UXAFCQFi8CfB"
      },
      "source": [
        "##Print y salto de línea en el argumento.\r\n",
        "\r\n",
        "print([lista de variables], end=\"\\n\")\r\n"
      ]
    },
    {
      "cell_type": "code",
      "metadata": {
        "colab": {
          "base_uri": "https://localhost:8080/"
        },
        "id": "EzK1yj468WBJ",
        "outputId": "2c883fe6-07a1-4d51-8c8f-a631b7ce296b"
      },
      "source": [
        "print(\"Hola \", end=\"\\u13CD\")\r\n",
        "print(\" mundo \", end=\"\")\r\n",
        "print(\"Fin\", end=\"\\n\")"
      ],
      "execution_count": 37,
      "outputs": [
        {
          "output_type": "stream",
          "text": [
            "Hola Ꮝ mundo Fin\n"
          ],
          "name": "stdout"
        }
      ]
    },
    {
      "cell_type": "markdown",
      "metadata": {
        "id": "cfFpkDwy9ekB"
      },
      "source": [
        "#Comentario en Python\r\n",
        "Un comentario en programacion, es un texto especial que es ignorado por el interprete o compilador (Segun sea el caso) y es utilizado para que el programador documente sus algortimos \r\n",
        "\r\n",
        "Existen de dos tipos: De línea simple y de multiple línea\r\n",
        "\r\n",
        "En python\r\n",
        "- Línea simple emplea #\r\n",
        "```\r\n",
        "# Comentario de línea simple\r\n",
        "```\r\n",
        "- Línea multiple \r\n",
        "```\r\n",
        "\"\"\"\r\n",
        "esto \r\n",
        "es un comentario de \r\n",
        "línea multiple \r\n",
        "\"\"\"\r\n",
        "```"
      ]
    },
    {
      "cell_type": "code",
      "metadata": {
        "colab": {
          "base_uri": "https://localhost:8080/"
        },
        "id": "9R3V5RWo-gTF",
        "outputId": "e313a456-371e-4a26-8c1f-6fa1fee7cd04"
      },
      "source": [
        "print(\"Hola\")\r\n",
        "# print(\"Hola\")\r\n",
        "#Cualquier cosa\r\n",
        "print(\"Hola\") #Esta linea imprime hola\r\n",
        "\"\"\"\r\n",
        "esto es \r\n",
        "un comentario de multilple línea \r\n",
        "ideal cuando se desa explicar algo de fondo que requiera \r\n",
        "mayor detalle \r\n",
        "\"\"\"\r\n",
        "print(\"Hola\")\r\n",
        "print(\"Hola\")"
      ],
      "execution_count": 38,
      "outputs": [
        {
          "output_type": "stream",
          "text": [
            "Hola\n",
            "Hola\n",
            "Hola\n",
            "Hola\n"
          ],
          "name": "stdout"
        }
      ]
    }
  ]
}