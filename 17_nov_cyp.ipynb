{
  "nbformat": 4,
  "nbformat_minor": 0,
  "metadata": {
    "colab": {
      "name": "17_nov_cyp.ipynb",
      "provenance": [],
      "authorship_tag": "ABX9TyNWYtGY9uhe6sx7usOxR7oU",
      "include_colab_link": true
    },
    "kernelspec": {
      "name": "python3",
      "display_name": "Python 3"
    }
  },
  "cells": [
    {
      "cell_type": "markdown",
      "metadata": {
        "id": "view-in-github",
        "colab_type": "text"
      },
      "source": [
        "<a href=\"https://colab.research.google.com/github/Montse-Cuarz/Programa-12-de-noviembre-del-2020/blob/main/17_nov_cyp.ipynb\" target=\"_parent\"><img src=\"https://colab.research.google.com/assets/colab-badge.svg\" alt=\"Open In Colab\"/></a>"
      ]
    },
    {
      "cell_type": "code",
      "metadata": {
        "id": "vVUKz5AESIj7"
      },
      "source": [
        "edad = 15 \n",
        "estatura = 1.67\n",
        "a = 10\n",
        "b = 3\n",
        "\n",
        "c= 2 ** b\n",
        "\n",
        "print(c)\n",
        "\n",
        "e = estatura * 2.0\n",
        "print(e)\n",
        "\n",
        "f = a / b #en python se hace el cálculo exacto \n",
        "print(f) #3,333\n",
        "\n",
        "#Tambien podemos forzar el calculo de enteros \n",
        "g =a // b\n",
        "print(\"g =\", g)\n",
        "\n",
        "h = a % b\n",
        "print(\"h = \", h)\n",
        "\n",
        "num = 11\n",
        "print(\" ¿Es par la variable num?\" , (num % 2) == 0)"
      ],
      "execution_count": null,
      "outputs": []
    },
    {
      "cell_type": "code",
      "metadata": {
        "id": "u8VpCfYTW4BT"
      },
      "source": [
        "ecuacion = 9 + 7 * 8 - 36 / 5 #9 + 7 * 8 - 36 / 5=57.8\n",
        "print(ecuacion)\n",
        "\n",
        "ecuacion=0\n",
        "ecuacion = (9 + 7) * 8 - 36 / 5 #120.8\n",
        "print(ecuacion)\n",
        "\n",
        "ecuacion = 9 + 7 * (8 - 36) / 5  #-30.20\n",
        "print(ecuacion)"
      ],
      "execution_count": null,
      "outputs": []
    },
    {
      "cell_type": "code",
      "metadata": {
        "colab": {
          "base_uri": "https://localhost:8080/"
        },
        "id": "jRJCqKy2b0xi",
        "outputId": "f2c84897-ac0b-4e8c-847f-b7d2dcae41ee"
      },
      "source": [
        "# operadores logicos ==> True y False \n",
        "\n",
        "x = 5\n",
        "y = 4\n",
        "\n",
        "valor = (x == y) # Son iguales? ==> False\n",
        "print(valor)\n",
        "\n",
        "valor = (x != y) # Son diferentes? ==> True \n",
        "print(valor)\n",
        "\n",
        "valor = (x < y) # x es menor que y? ==> False \n",
        "print(valor)\n",
        "\n",
        "valor = (x > y) # x es mayor que y? ==> True \n",
        "print(valor)\n",
        "\n",
        "y = 5\n",
        "valor = (x <= y) # x es menor o igual que y? ==> True  \n",
        "print(valor)\n",
        "\n",
        "\n",
        "valor = (x >= y) # x es mayor o igual que y? ==> True  \n",
        "print(valor)"
      ],
      "execution_count": 19,
      "outputs": [
        {
          "output_type": "stream",
          "text": [
            "False\n",
            "True\n",
            "False\n",
            "True\n",
            "True\n",
            "True\n"
          ],
          "name": "stdout"
        }
      ]
    },
    {
      "cell_type": "code",
      "metadata": {
        "id": "7G4yIdAnfdZE"
      },
      "source": [
        "costo_chetos = 7.0\n",
        "tienda_abierta = False\n",
        "capital_en_bolsa = 10.0\n",
        "\n",
        "se_compra = ( costo_chetos < capital_en_bolsa ) and (tienda_abierta == True)\n",
        "print( se_compra)\n"
      ],
      "execution_count": null,
      "outputs": []
    }
  ]
}