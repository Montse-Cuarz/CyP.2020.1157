{
  "nbformat": 4,
  "nbformat_minor": 0,
  "metadata": {
    "colab": {
      "name": "Tarea5_cyp.ipynb",
      "provenance": [],
      "authorship_tag": "ABX9TyMiwCfHdr0SUkSL01OURod4",
      "include_colab_link": true
    },
    "kernelspec": {
      "name": "python3",
      "display_name": "Python 3"
    }
  },
  "cells": [
    {
      "cell_type": "markdown",
      "metadata": {
        "id": "view-in-github",
        "colab_type": "text"
      },
      "source": [
        "<a href=\"https://colab.research.google.com/github/Montse-Cuarz/CyP.2020.1157/blob/main/Tarea5_cyp.ipynb\" target=\"_parent\"><img src=\"https://colab.research.google.com/assets/colab-badge.svg\" alt=\"Open In Colab\"/></a>"
      ]
    },
    {
      "cell_type": "code",
      "metadata": {
        "id": "9qGJBGkT1Y0V"
      },
      "source": [
        "#Ejemplo 1 (3.1. FOR)\n",
        "\n",
        "nomina=0\n",
        "empleados=[1,2,3,4,5,6,7,8,9,10]\n",
        "for i in empleados:\n",
        "  nom= float (input(f\"Ingrese el sueldo del empleado n° {i}\\n\"))\n",
        "  nomina=nomina+nom\n",
        "\n",
        "print(\"La nomina de la empresa es de $\",nomina)\n",
        "  "
      ],
      "execution_count": null,
      "outputs": []
    },
    {
      "cell_type": "code",
      "metadata": {
        "id": "h3xCmm5RvMOw"
      },
      "source": [
        "#Ejemplo 1.1 (3.1. FOR)\n",
        "\n",
        "nomina=0\n",
        "for i in range (10):\n",
        "  i=i+1\n",
        "  nom= float (input(f\"Ingrese el sueldo del empleado n° {i}\\n\"))\n",
        "  nomina=nomina+nom\n",
        "\n",
        "print(\"La nomina de la empresa es de $\",nomina)\n"
      ],
      "execution_count": null,
      "outputs": []
    },
    {
      "cell_type": "code",
      "metadata": {
        "id": "vAZK_smApkdb"
      },
      "source": [
        "#Ejemplo 2 (3.4 WHILE)\n",
        "\n",
        "sumagas=0\n",
        "gasto=0\n",
        "while (gasto>=0):\n",
        "  gasto=float (input(\"Mencione cuanto gasto\\n\"))\n",
        "  sumagas=sumagas+gasto\n",
        "  \n",
        "print(\"El gasto fue de $\",sumagas)\n",
        "\n",
        "print(\"Verifique su gasto\")\n"
      ],
      "execution_count": null,
      "outputs": []
    }
  ]
}