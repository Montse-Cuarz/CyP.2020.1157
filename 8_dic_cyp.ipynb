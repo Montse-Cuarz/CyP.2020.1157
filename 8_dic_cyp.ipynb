{
  "nbformat": 4,
  "nbformat_minor": 0,
  "metadata": {
    "colab": {
      "name": "8_dic_cyp.ipynb",
      "provenance": [],
      "authorship_tag": "ABX9TyMorUl7DZb3iR7XOMKqxGdQ",
      "include_colab_link": true
    },
    "kernelspec": {
      "name": "python3",
      "display_name": "Python 3"
    }
  },
  "cells": [
    {
      "cell_type": "markdown",
      "metadata": {
        "id": "view-in-github",
        "colab_type": "text"
      },
      "source": [
        "<a href=\"https://colab.research.google.com/github/Montse-Cuarz/CyP.2020.1157/blob/main/8_dic_cyp.ipynb\" target=\"_parent\"><img src=\"https://colab.research.google.com/assets/colab-badge.svg\" alt=\"Open In Colab\"/></a>"
      ]
    },
    {
      "cell_type": "code",
      "metadata": {
        "id": "2HdNh01hWzOI"
      },
      "source": [
        "a=20\r\n",
        "while (a>10):\r\n",
        "  print(f\"A = {a}\")\r\n",
        "  a=a-1  "
      ],
      "execution_count": null,
      "outputs": []
    },
    {
      "cell_type": "code",
      "metadata": {
        "id": "v4wtnPOFZ64-"
      },
      "source": [
        "suma_gas=0\r\n",
        "gasto=float(input(\"Introduce un gasto:\"))\r\n",
        "while(gasto !=-1):\r\n",
        "  suma_gas=suma_gas+gasto\r\n",
        "  gasto=float(input(\"Introduce un gasto:\"))\r\n",
        "\r\n",
        "print(f\"Suma total es de ${suma_gas}\")"
      ],
      "execution_count": null,
      "outputs": []
    },
    {
      "cell_type": "code",
      "metadata": {
        "id": "qZXbbpAJcDwR"
      },
      "source": [
        "cubo=0\r\n",
        "num=float(input(\"Introduce un numero:\"))\r\n",
        "while (num !=-1):\r\n",
        "  cubo=num**3\r\n",
        "  print(f\"El cubo del numero es {cubo}\")\r\n",
        "  num=float(input(\"Introduce un numero:\"))\r\n",
        "\r\n",
        "print(\"Fin del programa!\")"
      ],
      "execution_count": null,
      "outputs": []
    },
    {
      "cell_type": "code",
      "metadata": {
        "id": "X-T0zxQseJhB"
      },
      "source": [
        "sumpar=0\r\n",
        "sumimp=0\r\n",
        "cuepar=0\r\n",
        "i=1\r\n",
        "while (i<=5):\r\n",
        "  num=int (input(\"Ingrese un numero:\"))\r\n",
        "  if (num!=0):\r\n",
        "    if ((-1)**num>0):\r\n",
        "      sumpar=sumpar+num\r\n",
        "      cuepar=cuepar+1\r\n",
        "    else:\r\n",
        "      sumimp=sumimp+num\r\n",
        "  i=i+1\r\n",
        "\r\n",
        "propar=sumpar/cuepar\r\n",
        "print(f\"El promedio de los pares es: {propar}\")\r\n",
        "print(f\"La suma de los impares es: {sumimp}\")"
      ],
      "execution_count": null,
      "outputs": []
    },
    {
      "cell_type": "code",
      "metadata": {
        "id": "N4l0kw6XkKKJ"
      },
      "source": [
        "band = True\r\n",
        "sumser=0\r\n",
        "i=2\r\n",
        "\r\n",
        "while (i<=1800):\r\n",
        "  sumser= sumser+i\r\n",
        "  print(f\"{i}, \", end=\"\")\r\n",
        "  if (band==True):\r\n",
        "    band= False\r\n",
        "    i=i+3\r\n",
        "  else:\r\n",
        "    band=True\r\n",
        "    i=i+2\r\n",
        "\r\n",
        "print(\"\\nLa suma de la serie es:\", sumser)"
      ],
      "execution_count": null,
      "outputs": []
    },
    {
      "cell_type": "code",
      "metadata": {
        "id": "Onmhwofzpvfh"
      },
      "source": [
        "s1=0\r\n",
        "s2=0\r\n",
        "s3=0\r\n",
        "#...\r\n",
        "s70=0\r\n",
        "\r\n",
        "s1=float (input(\"Dame el sueldo\"))\r\n",
        "s2=float (input(\"Dame el sueldo\"))\r\n",
        "s3=float (input(\"Dame el sueldo\"))\r\n",
        "#...\r\n",
        "s70=float (input(\"Dame el sueldo\"))"
      ],
      "execution_count": null,
      "outputs": []
    },
    {
      "cell_type": "code",
      "metadata": {
        "id": "BRo_UDQfrGVV"
      },
      "source": [
        "#Ejemplos de arreglos\r\n",
        "\"\"\"\r\n",
        "En python no existe el tipo de dato arreglo.\r\n",
        "En su lugar existe el tipo de dato nativo list que\r\n",
        "funciona de manera semejante.\r\n",
        "Ejemplo: Declarar un arreglo de 70 elementos de tipo float para almacenar\r\n",
        "sueldos.\r\n",
        "\"\"\"\r\n",
        "sueldos = [0.0 for x in range(7)]\r\n",
        "print(sueldos)\r\n",
        "sueldos[0]=200.5\r\n",
        "print(sueldos)\r\n",
        "sueldos[4]=77.77\r\n",
        "print(sueldos)\r\n",
        "\r\n",
        "\"\"\"\r\n",
        "En lenguaje c, un arreglo se declara de la forma\r\n",
        "float sueldos[7]={0.0};\r\n",
        "En java seria asi:\r\n",
        "float [] sueldos = new int[7]={0.0};\r\n",
        "\r\n",
        "ambos, cambiar el valor del primer elemento:\r\n",
        "sueldos[0]=44.44;\r\n",
        "\"\"\""
      ],
      "execution_count": null,
      "outputs": []
    },
    {
      "cell_type": "code",
      "metadata": {
        "id": "Ce4nwt_guAro"
      },
      "source": [
        "s=[0.0 for x in range(7)] #generador de python\r\n",
        "for j in range(7):\r\n",
        "  s[j]=float(input(\"Introduce un sueldo: \"))\r\n",
        "print(s)\r\n",
        "\r\n",
        "print(\"_____________________________________________\")\r\n",
        "for j in range(7):\r\n",
        "  print(s[j])"
      ],
      "execution_count": null,
      "outputs": []
    }
  ]
}