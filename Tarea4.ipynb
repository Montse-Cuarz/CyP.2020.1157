{
  "nbformat": 4,
  "nbformat_minor": 0,
  "metadata": {
    "colab": {
      "name": "Tarea4.ipynb",
      "provenance": [],
      "authorship_tag": "ABX9TyNgvMh+CIAtvzar1Zjd0z+h",
      "include_colab_link": true
    },
    "kernelspec": {
      "name": "python3",
      "display_name": "Python 3"
    }
  },
  "cells": [
    {
      "cell_type": "markdown",
      "metadata": {
        "id": "view-in-github",
        "colab_type": "text"
      },
      "source": [
        "<a href=\"https://colab.research.google.com/github/Montse-Cuarz/CyP.2020.1157/blob/main/Tarea4.ipynb\" target=\"_parent\"><img src=\"https://colab.research.google.com/assets/colab-badge.svg\" alt=\"Open In Colab\"/></a>"
      ]
    },
    {
      "cell_type": "code",
      "metadata": {
        "id": "pf6GP5l5czsN"
      },
      "source": [
        "#Ejercicio 2.4\n",
        "\n",
        "nombre=str(input(\"Ingrese su nombre:\\n\"))\n",
        "sue=float (input(\"Ingrese su sueldo:\\n $ \"))\n",
        "\n",
        "if (sue<1000):\n",
        "  nsue=sue*1.15\n",
        "  print(\"Recibira un aumento del 15% en su sueldo\")\n",
        "else:\n",
        "  nsue=sue*1.12\n",
        "  print(\"Recibira un aumento del 12% en su sueldo\")\n",
        "\n",
        "print(nombre,\"Su paga total es de $\",nsue)\n"
      ],
      "execution_count": null,
      "outputs": []
    },
    {
      "cell_type": "code",
      "metadata": {
        "id": "P8O_egp7ijXK"
      },
      "source": [
        "#Ejercio 2.8\n",
        "\n",
        "nombre= str (input(\"Ingrese su nombre: \\n\"))\n",
        "cate= int (input(\"Ingrese su categoria de trabajador: \\n\"))\n",
        "sue=float (input(\"Ingrese el valor de su sueldo: \\n\"))\n",
        "\n",
        "if (cate==1):\n",
        "  print(\"Se le hara un amuento de 15% en su sueldo\")\n",
        "  nsue=sue*1.15\n",
        "\n",
        "elif (cate==2):\n",
        "  print(\"Se le hara un amuento de 10% en su sueldo\")\n",
        "  nsue=sue*1.10\n",
        "\n",
        "elif (cate==3):\n",
        "  print(\"Se le hara un amuento de 8% en su sueldo\")\n",
        "  nsue=sue*1.08\n",
        "\n",
        "elif (cate==4):\n",
        "  print(\"Se le hara un amuento de 7% en su sueldo\")\n",
        "  nsue=sue*1.07\n",
        "\n",
        "print(nombre,\"su nuevo sueldo es de $\",nsue)\n"
      ],
      "execution_count": null,
      "outputs": []
    }
  ]
}