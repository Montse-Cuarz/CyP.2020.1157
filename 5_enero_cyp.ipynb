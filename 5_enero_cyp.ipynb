{
  "nbformat": 4,
  "nbformat_minor": 0,
  "metadata": {
    "colab": {
      "name": "5_enero_cyp.ipynb",
      "provenance": [],
      "authorship_tag": "ABX9TyOULX8lCu1v40dXxFfAP9as",
      "include_colab_link": true
    },
    "kernelspec": {
      "name": "python3",
      "display_name": "Python 3"
    }
  },
  "cells": [
    {
      "cell_type": "markdown",
      "metadata": {
        "id": "view-in-github",
        "colab_type": "text"
      },
      "source": [
        "<a href=\"https://colab.research.google.com/github/Montse-Cuarz/CyP.2020.1157/blob/main/5_enero_cyp.ipynb\" target=\"_parent\"><img src=\"https://colab.research.google.com/assets/colab-badge.svg\" alt=\"Open In Colab\"/></a>"
      ]
    },
    {
      "cell_type": "code",
      "metadata": {
        "id": "pTzwA6HKkC_f"
      },
      "source": [
        "sueldo= [0.0 for x in range (7)]\r\n",
        "print (sueldo)\r\n",
        "sueldo [0]=12.3\r\n",
        "sueldo [1]=12.3\r\n",
        "sueldo [2]=12.3\r\n",
        "sueldo [3]=12.3\r\n",
        "sueldo [4]=12.3\r\n",
        "sueldo [5]=12.3\r\n",
        "sueldo [6]=12.3\r\n",
        "print (sueldo)\r\n",
        "#¿Como hacemos para asignarles valor de 2l 1.0 al 7.0 \r\n",
        "#con una estructrura for\r\n",
        "s=[0.0 for x in range(7)] #generador de python\r\n",
        "for j in range(7):\r\n",
        "  s[j]=float(input(\"Introduce un sueldo:\")) \r\n",
        "\r\n",
        "#automatizar el recorrido de los elementos del arreglo\r\n",
        "for i in range(7):\r\n",
        "  print(f\"El trabajador {int(i+1)} gana ${sueldo [i]}\")\r\n"
      ],
      "execution_count": null,
      "outputs": []
    },
    {
      "cell_type": "code",
      "metadata": {
        "id": "ioHfJSYLolJ3"
      },
      "source": [
        "#Problema 4.1\r\n",
        "\r\n",
        "Maximo = 7\r\n",
        "Sueldo = [0.0 for x in range (Maximo)]\r\n",
        "Suma = 0.0\r\n",
        "Promedio = 0.0\r\n",
        "\r\n",
        "for i in range(Maximo):\r\n",
        "  Sueldos[i] = float(input(f\"Dame el sueldo: {i+1} \"))\r\n",
        "\r\n",
        "for i in range (Maximo):\r\n",
        "  print(f\"Trabajador {i + 1}, gana: {Sueldos[i]}\")\r\n",
        "\r\n",
        "for i in range(Maximo):\r\n",
        "  Suma = Suma + Sueldos[i]\r\n",
        "\r\n",
        "Promedio = Suma / Maximo\r\n",
        "\r\n",
        "print(f\"El promedio de sueldo es ${Promedio}\")\r\n",
        "\r\n",
        "for i in range(7):\r\n",
        "  if Sueldos[i] > Promedio:\r\n",
        "    print(f\"El trabajador {i+1} tiene un sueldo mayor al promedio\")\r\n"
      ],
      "execution_count": null,
      "outputs": []
    },
    {
      "cell_type": "code",
      "metadata": {
        "id": "e0WKHP9jsrQV"
      },
      "source": [
        "#Hacer un programa que solicite 5 valores enteros positivos y \r\n",
        "#una vez que se capturen por teclado, el programa determine  lo siguiente:\r\n",
        "#1)cual es el mayor\r\n",
        "#2)cual es el menor\r\n",
        "#3)cual es el promedio\r\n",
        "\r\n",
        "maximo=5\r\n",
        "mayor=0\r\n",
        "menor=10000\r\n",
        "suma=0\r\n",
        "valor= [0.0 for x in range (maximo)]\r\n",
        "\r\n",
        "for i in range(maximo):\r\n",
        "  valor[i] = float(input(f\"Dame el valor: {i+1} \"))\r\n",
        "  suma=suma+valor[i]\r\n",
        "  if valor[i] > mayor:\r\n",
        "    mayor= valor[i]\r\n",
        "  elif valor[i] < menor:\r\n",
        "    menor = valor[i]\r\n",
        "\r\n",
        "\r\n",
        "promedio=suma/maximo\r\n",
        "print(f\"El valor maximo es {mayor}\")\r\n",
        "print(f\"El valor minimo es {menor}\")\r\n",
        "print(f\"El promedio es {promedio}\")"
      ],
      "execution_count": null,
      "outputs": []
    },
    {
      "cell_type": "code",
      "metadata": {
        "id": "y8YesCYuvLhK"
      },
      "source": [
        "#Problema 4.1\r\n",
        "n= int (input(\"Ingrese el numero de elementos de arreglos \"))\r\n",
        "vec= []\r\n",
        "if (1<=n) and (n<=500):\r\n",
        "  vec = [0 for x in range (n)]\r\n",
        "  print (vec)\r\n",
        "  for i in range (n):\r\n",
        "    vec[i]=int (input(\"Ingrese el valor\"+str(i+1) +\":\"))\r\n",
        "  print(\"Lista de numeros sin repeticiones: \")\r\n",
        "\r\n",
        "  while i<n:\r\n",
        "    print(i,\"=\",vec[i])\r\n",
        "    repet=vec[i]\r\n",
        "    while (i<n) and (repet==vec[i]):\r\n",
        "      #print(\"Incrementa i\",i)\r\n",
        "      i=i+1\r\n",
        "    i=i+1\r\n",
        "\r\n",
        "else: \r\n",
        "  print(\"El numero de elementos del arreglos es incorrecto\")\r\n",
        "\r\n"
      ],
      "execution_count": null,
      "outputs": []
    }
  ]
}