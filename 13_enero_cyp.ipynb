{
  "nbformat": 4,
  "nbformat_minor": 0,
  "metadata": {
    "colab": {
      "name": "13_enero_cyp.ipynb",
      "provenance": [],
      "authorship_tag": "ABX9TyN+A7+Q02FXJOsf5iLqsmG9",
      "include_colab_link": true
    },
    "kernelspec": {
      "name": "python3",
      "display_name": "Python 3"
    }
  },
  "cells": [
    {
      "cell_type": "markdown",
      "metadata": {
        "id": "view-in-github",
        "colab_type": "text"
      },
      "source": [
        "<a href=\"https://colab.research.google.com/github/Montse-Cuarz/CyP.2020.1157/blob/main/13_enero_cyp.ipynb\" target=\"_parent\"><img src=\"https://colab.research.google.com/assets/colab-badge.svg\" alt=\"Open In Colab\"/></a>"
      ]
    },
    {
      "cell_type": "markdown",
      "metadata": {
        "id": "cilNT_3GKIGR"
      },
      "source": [
        ""
      ]
    },
    {
      "cell_type": "markdown",
      "metadata": {
        "id": "3AzgMYcJKIaG"
      },
      "source": [
        "# Palabras reservadas en Python 3\r\n",
        "\r\n",
        "1. False\r\n",
        "1. None\r\n",
        "1. True\r\n",
        "1. and\r\n",
        "1. as\r\n",
        "1. assert\r\n",
        "1. break\r\n",
        "1. class\r\n",
        "1. continue\r\n",
        "1. def\r\n",
        "1. del\r\n",
        "1. elif\r\n",
        "1. else\r\n",
        "1. except\r\n",
        "1. finally\r\n",
        "1. for\r\n",
        "1. from\r\n",
        "1. global\r\n",
        "1. if\r\n",
        "1. import\r\n",
        "1. in\r\n",
        "1. is\r\n",
        "1. lambda\r\n",
        "1. nonlocal\r\n",
        "1. not\r\n",
        "1. or\r\n",
        "1. pass\r\n",
        "1. raise\r\n",
        "1. return\r\n",
        "1. try\r\n",
        "1. while\r\n",
        "1. with\r\n",
        "1. yield"
      ]
    },
    {
      "cell_type": "code",
      "metadata": {
        "id": "p-dKu3l6KQYt"
      },
      "source": [
        "import keyword\r\n",
        "pr = keyword.kwlist\r\n",
        "print( len(pr))\r\n",
        "for palabra in pr:\r\n",
        "  print(\"1. \"+palabra )"
      ],
      "execution_count": null,
      "outputs": []
    },
    {
      "cell_type": "markdown",
      "metadata": {
        "id": "diQhoSgLKV-F"
      },
      "source": [
        "## Variable\r\n",
        "Es un espacio de memoria de la computadora para almacenar valores que cambian a lo largo de la ejecución del programa. Este espacio de memoria esta referenciado por un identificador.\r\n",
        "- No puede iniciar con número \r\n",
        "- No debe ser igual a alguna de las palabras reservadas.\r\n",
        "- Puede iniciar con _\r\n",
        "- Evitar nombres de variables largos\r\n",
        "- Evitar muy cortos, Ejemplo : x, y, i\r\n",
        "- Usar notación snake_case"
      ]
    },
    {
      "cell_type": "code",
      "metadata": {
        "id": "CFsQERJMKd50"
      },
      "source": [
        "_2edad = 12\r\n",
        "print(_2edad)\r\n",
        "\r\n",
        "\"\"\"\r\n",
        "No se puede usar una variable reservada como identificador de variable:\r\n",
        "\r\n",
        "for = 12\r\n",
        "print(for)\r\n",
        "\"\"\""
      ],
      "execution_count": null,
      "outputs": []
    },
    {
      "cell_type": "code",
      "metadata": {
        "id": "8G1jiCfyKjPY"
      },
      "source": [
        "\"\"\"\r\n",
        "La notación snake_case consta de formar el identificador de variable\r\n",
        "separando las palabras del mismo con un guión bajo.\r\n",
        "\r\n",
        "Se recomienda que los identificadores se escriban en minuscula para las variables\r\n",
        "y en mayúsculas para las constantes.\r\n",
        "\r\n",
        "Es decir si tenemos una variable para los dias de la semana, se escribiría a\r\n",
        "\r\n",
        "dias_de_la_semana = 7\r\n",
        "dias_mes = 31\r\n",
        "limite_maximo = 100\r\n",
        "\r\n",
        "\r\n",
        "\"\"\""
      ],
      "execution_count": null,
      "outputs": []
    },
    {
      "cell_type": "markdown",
      "metadata": {
        "id": "ZB8c31JpKoGX"
      },
      "source": [
        "#  Tipos de datos\r\n",
        "- Numéricos\r\n",
        "    - int 4 bytes ( 1, 2, 23454, etc. )\r\n",
        "    - float 4 bytes ( 1.14 , 3.1416 , 1.0) \r\n",
        "    - long 8 bytes (1 ,2,23454, etc)\r\n",
        "    - complex 3 + 2j (Raices negativas)\r\n",
        "- Boolean: True o False\r\n",
        "- String cadenas de caracteres (\"cad\" , 'cad'\r\n",
        " o \"\"\" cad \"\"\" )\r\n",
        "- listas ([1,2,3,4] , [a,b,1,2.3])\r\n",
        "- tuplas ( (edad,23) , (3,4) ) \r\n",
        "- conjuntos\r\n",
        "- diccionarios ( {\"nombre\":\"Juan\"} )"
      ]
    },
    {
      "cell_type": "markdown",
      "metadata": {
        "id": "wJ80xe8-KqDj"
      },
      "source": [
        "# tipo de dato String \r\n",
        "\r\n",
        "Este tipo de dato permite almacenar cadenas de caracteres, como por ejemplo:\r\n",
        "\r\n",
        "\r\n",
        "\r\n",
        "nombre = 'Jesús'\r\n",
        "lugar_nacimiento = \"Mexico D.F. , Tacuba\"\r\n",
        "frase_favorita = \"\"\"\r\n",
        "El conocimiento\r\n",
        "me persigue,\r\n",
        "pero...\r\n",
        "yo soy más rápido!!!\r\n",
        ":)\r\n",
        "\"\"\"\r\n"
      ]
    },
    {
      "cell_type": "code",
      "metadata": {
        "id": "n93r-j8WKxZG"
      },
      "source": [
        "nombre = 'Jesús'\r\n",
        "lugar_nacimiento = \"Mexico D.F. , Tacuba\"\r\n",
        "frase_favorita = \"\"\"\r\n",
        "El conocimiento\r\n",
        "me persigue,\r\n",
        "pero...\r\n",
        "yo soy más rápido!!!\r\n",
        ":)\r\n",
        "\"\"\"\r\n",
        "\r\n",
        "print(nombre)\r\n",
        "print(lugar_nacimiento)\r\n",
        "print(frase_favorita)"
      ],
      "execution_count": null,
      "outputs": []
    },
    {
      "cell_type": "markdown",
      "metadata": {
        "id": "WAj4i0ZHK5Bx"
      },
      "source": [
        "# String como arreglo\r\n",
        "Un string en python es almacenado como el tipo de dato (estructura de datos) arreglo.\r\n",
        "\r\n",
        "Por ejemplo la declaración:\r\n",
        "\r\n",
        "nombre = 'Jesús'\r\n",
        "\r\n",
        "El elemento 'J' es almacenado en un arreglo en la posición 0.\r\n",
        "\r\n",
        "La e en la 1 y así sucesivamente.\r\n",
        "\r\n",
        "### Selector\r\n",
        "La notación para seleccionar un numero del arreglo es:\r\n",
        "```\r\n",
        "```\r\n",
        "Donde el valor interno debe ser un valor numérico entero."
      ]
    },
    {
      "cell_type": "code",
      "metadata": {
        "id": "SFYYFxkzK-Dv"
      },
      "source": [
        "nombre = 'Jesús'\r\n",
        "print(nombre)\r\n",
        "print( nombre [0])\r\n",
        "print( nombre [3])"
      ],
      "execution_count": null,
      "outputs": []
    },
    {
      "cell_type": "markdown",
      "metadata": {
        "id": "fTRObhLvLB2i"
      },
      "source": [
        "#Iterar sobre un String\r\n",
        "\r\n",
        "Se puede iterar sobre un String con un for de la forma:\r\n",
        "\r\n",
        "```\r\n",
        "for letra in range( len(nombre) ):\r\n",
        "    print( letra )"
      ]
    },
    {
      "cell_type": "code",
      "metadata": {
        "colab": {
          "base_uri": "https://localhost:8080/"
        },
        "id": "vvEnZEUgLJCq",
        "outputId": "bbf010ad-2afd-4067-c86c-8441166e5b47"
      },
      "source": [
        "for indice in range( len(nombre) ):  # 0, 1 , 2 , 3 , 4 \r\n",
        "    print( indice , end = \" \")\r\n",
        "    print(nombre[indice])"
      ],
      "execution_count": 6,
      "outputs": [
        {
          "output_type": "stream",
          "text": [
            "0 J\n",
            "1 e\n",
            "2 s\n",
            "3 ú\n",
            "4 s\n"
          ],
          "name": "stdout"
        }
      ]
    },
    {
      "cell_type": "markdown",
      "metadata": {
        "id": "kWJi0dNALMWe"
      },
      "source": [
        "##Función range(inicio, stop, incremento)\r\n",
        "\r\n",
        "El inicio es opcional y por defecto tiene el valor 0\r\n",
        "\r\n",
        "El incremento tambien es opcional y por defecto es 1"
      ]
    },
    {
      "cell_type": "code",
      "metadata": {
        "colab": {
          "base_uri": "https://localhost:8080/"
        },
        "id": "zAo6PVzGLQ0C",
        "outputId": "4635d339-96eb-4cff-beae-bbe384e79481"
      },
      "source": [
        "for indice in range(1, len(nombre) , 1):\r\n",
        "    print(nombre[indice])"
      ],
      "execution_count": 7,
      "outputs": [
        {
          "output_type": "stream",
          "text": [
            "e\n",
            "s\n",
            "ú\n",
            "s\n"
          ],
          "name": "stdout"
        }
      ]
    },
    {
      "cell_type": "code",
      "metadata": {
        "colab": {
          "base_uri": "https://localhost:8080/"
        },
        "id": "vC4u-XRMLaHT",
        "outputId": "fef781e7-9b4f-4d9f-95d0-e51940210526"
      },
      "source": [
        "for indice in range (4, 0 , -1): \r\n",
        "  print(nombre [indice])"
      ],
      "execution_count": 8,
      "outputs": [
        {
          "output_type": "stream",
          "text": [
            "s\n",
            "ú\n",
            "s\n",
            "e\n"
          ],
          "name": "stdout"
        }
      ]
    },
    {
      "cell_type": "markdown",
      "metadata": {
        "id": "dlTZBIeTMASy"
      },
      "source": [
        "# Strings e indexado negativo\r\n",
        "En python 3 se agrega una nueva caracteristica a los arreglos de las cadenas de caracteres, esta consta de la capacidad de indexar de forma negativa.\r\n",
        "\r\n",
        "La lógica es la siguiente.\r\n",
        "El último elemento se le considera como índice (ALTERNATIVO) -1, con el final de la cadena sin la necesidad de saber el tamaño de la misma\r\n",
        "\r\n",
        "```\r\n",
        "nombre= 'Jesus'\r\n",
        "```\r\n",
        "indice normal 0 1 2 3 4 \r\n",
        "\r\n",
        "              J e s u s\r\n",
        "\r\n",
        "indice alternativo -5 -4 -3 -2 -1 \r\n",
        "\r\n",
        "                    J  e  s  u  s"
      ]
    },
    {
      "cell_type": "code",
      "metadata": {
        "id": "bV-pu9AGMkpx"
      },
      "source": [
        "nombre = \"Jesus\"\r\n",
        "print(nombre[4])\r\n",
        "print( nombre[-1])\r\n",
        "for indice_alter in range (-1, -6, -1):\r\n",
        "  print(nombre[indice_alter])"
      ],
      "execution_count": null,
      "outputs": []
    },
    {
      "cell_type": "markdown",
      "metadata": {
        "id": "zLSTor_tP1oE"
      },
      "source": [
        "#Slicing de cadenas de caracteres \r\n",
        "Esta caracteristica permite sacar secciones de una cadena con la siguiente sintaxis:\r\n",
        "```\r\n",
        "[ inicio: stop : incremento] \r\n",
        "```\r\n",
        "\r\n",
        "Donde inicio e incremento son opcionales y tambien soportan indexado alternativo (negativos)"
      ]
    },
    {
      "cell_type": "code",
      "metadata": {
        "id": "y4ljqqBZQcKQ"
      },
      "source": [
        "facultad =\"Facultad de Estudios Superiores Aragón (La mejor)\"\r\n",
        "\r\n",
        "print(facultad)\r\n",
        "for indice in range (12, 20, 1):\r\n",
        "  print(facultad [indice], end =\"\")\r\n",
        "\r\n",
        "#Hacer esto mismo con la caracteristica Slicing se lográ así\r\n",
        "print(\"\\nCon Slicing\")\r\n",
        "print(facultad [12:20:1])\r\n",
        "\r\n",
        "#La palabra \"de\" con Slicing\r\n",
        "print(facultad[9:11:1])\r\n",
        "\r\n",
        "#La mejor \r\n",
        "#La mejor alternativo y slacing "
      ],
      "execution_count": null,
      "outputs": []
    }
  ]
}