{
  "nbformat": 4,
  "nbformat_minor": 0,
  "metadata": {
    "colab": {
      "name": "Tarea_8.ipynb",
      "provenance": [],
      "authorship_tag": "ABX9TyPzGlYokEG/xfd/oWaHVQjZ",
      "include_colab_link": true
    },
    "kernelspec": {
      "name": "python3",
      "display_name": "Python 3"
    }
  },
  "cells": [
    {
      "cell_type": "markdown",
      "metadata": {
        "id": "view-in-github",
        "colab_type": "text"
      },
      "source": [
        "<a href=\"https://colab.research.google.com/github/Montse-Cuarz/CyP.2020.1157/blob/main/Tarea_8.ipynb\" target=\"_parent\"><img src=\"https://colab.research.google.com/assets/colab-badge.svg\" alt=\"Open In Colab\"/></a>"
      ]
    },
    {
      "cell_type": "code",
      "metadata": {
        "colab": {
          "base_uri": "https://localhost:8080/"
        },
        "id": "B0JU6aMoIIwj",
        "outputId": "11a2f563-924b-4b05-c620-865dcc26925b"
      },
      "source": [
        "#Primera fila \r\n",
        "print(\"\\u2B50 \\u269C\",\"\\u269C\",\"\\u269C\",\"\\u269C\",\"\\u269C\",\"\\u269C\",\"\\u269C\",\"\\u269C\",\"\\u269C\",\"\\u269C\",\"\\u269C\",\"\\u269C\",\"\\u269C\",end=\" \")\r\n",
        "print(\"\\u269C\",\"\\u269C\",\"\\u269C\",\"\\u269C\",\"\\u269C\",\"\\u269C\",\"\\u269C\",\"\\u269C\",\"\\u269C\",end=\" \")\r\n",
        "print(\"\\u269C\",\"\\u269C\",\"\\u269C\",\"\\u269C\",\"\\u269C\",\"\\u269C\",\"\\u269C\",\"\\u269C\",\"\\u269C\",end=\" \")\r\n",
        "print(\"\\u269C\",\"\\u269C\",\"\\u269C\",\"\\u2B50\")\r\n",
        "#Segunda fila\r\n",
        "print(\"\\u269C\",\"                                                                                          \\u269c\")\r\n",
        "#Tercera fila\r\n",
        "print(\"\\u269C \\u26C5\\u26C5    \\u26C5\\u26C5    \\u26C5\\u26C5\\u26C5\\u26C5    \\u26C5\\u26C5    \\u26C5    \\u26C5\\u26C5\\u26C5\\u26C5\\u26C5    \\u26C5\\u26C5\\u26C5\\u26C5    \\u26C5\\u26C5\\u26C5\\u26C5  \\u269c\")\r\n",
        "#Cuarta fila\r\n",
        "print(\"\\u269C \\u26C5  \\u26C5\\u26C5  \\u26C5    \\u26C5     \\u26C5    \\u26C5  \\u26C5  \\u26C5         \\u26C5         \\u26C5           \\u26C5          \\u269C\")\r\n",
        "#Quinta fila\r\n",
        "print(\"\\u269C \\u26C5         \\u26C5    \\u26C5     \\u26C5    \\u26C5    \\u26C5\\u26C5         \\u26C5         \\u26C5\\u26C5\\u26C5\\u26C5    \\u26C5\\u26C5       \\u269C\")\r\n",
        "#Sexta fila\r\n",
        "print(\"\\u269C \\u26C5         \\u26C5    \\u26C5     \\u26C5    \\u26C5      \\u26C5          \\u26C5                \\u26C5    \\u26C5          \\u269C\")\r\n",
        "#Septima fila\r\n",
        "print(\"\\u269C \\u26C5         \\u26C5    \\u26C5\\u26C5\\u26C5\\u26C5    \\u26C5      \\u26C5         \\u26C5         \\u26C5\\u26C5\\u26C5\\u26C5    \\u26C5\\u26C5\\u26C5\\u26C5   \\u269C\")\r\n",
        "#Octava fila \r\n",
        "print(\"\\u269C\",\"                                                                                          \\u269c\")\r\n",
        "#Novena fila \r\n",
        "#Primera fila \r\n",
        "print(\"\\u2B50 \\u269C\",\"\\u269C\",\"\\u269C\",\"\\u269C\",\"\\u269C\",\"\\u269C\",\"\\u269C\",\"\\u269C\",\"\\u269C\",\"\\u269C\",\"\\u269C\",\"\\u269C\",\"\\u269C\",end=\" \")\r\n",
        "print(\"\\u269C\",\"\\u269C\",\"\\u269C\",\"\\u269C\",\"\\u269C\",\"\\u269C\",\"\\u269C\",\"\\u269C\",\"\\u269C\",end=\" \")\r\n",
        "print(\"\\u269C\",\"\\u269C\",\"\\u269C\",\"\\u269C\",\"\\u269C\",\"\\u269C\",\"\\u269C\",\"\\u269C\",\"\\u269C\",end=\" \")\r\n",
        "print(\"\\u269C\",\"\\u269C\",\"\\u269C\",\"\\u2B50\")"
      ],
      "execution_count": 216,
      "outputs": [
        {
          "output_type": "stream",
          "text": [
            "⭐ ⚜ ⚜ ⚜ ⚜ ⚜ ⚜ ⚜ ⚜ ⚜ ⚜ ⚜ ⚜ ⚜ ⚜ ⚜ ⚜ ⚜ ⚜ ⚜ ⚜ ⚜ ⚜ ⚜ ⚜ ⚜ ⚜ ⚜ ⚜ ⚜ ⚜ ⚜ ⚜ ⚜ ⚜ ⭐\n",
            "⚜                                                                                           ⚜\n",
            "⚜ ⛅⛅    ⛅⛅    ⛅⛅⛅⛅    ⛅⛅    ⛅    ⛅⛅⛅⛅⛅    ⛅⛅⛅⛅    ⛅⛅⛅⛅  ⚜\n",
            "⚜ ⛅  ⛅⛅  ⛅    ⛅     ⛅    ⛅  ⛅  ⛅         ⛅         ⛅           ⛅          ⚜\n",
            "⚜ ⛅         ⛅    ⛅     ⛅    ⛅    ⛅⛅         ⛅         ⛅⛅⛅⛅    ⛅⛅       ⚜\n",
            "⚜ ⛅         ⛅    ⛅     ⛅    ⛅      ⛅          ⛅                ⛅    ⛅          ⚜\n",
            "⚜ ⛅         ⛅    ⛅⛅⛅⛅    ⛅      ⛅         ⛅         ⛅⛅⛅⛅    ⛅⛅⛅⛅   ⚜\n",
            "⚜                                                                                           ⚜\n",
            "⭐ ⚜ ⚜ ⚜ ⚜ ⚜ ⚜ ⚜ ⚜ ⚜ ⚜ ⚜ ⚜ ⚜ ⚜ ⚜ ⚜ ⚜ ⚜ ⚜ ⚜ ⚜ ⚜ ⚜ ⚜ ⚜ ⚜ ⚜ ⚜ ⚜ ⚜ ⚜ ⚜ ⚜ ⚜ ⭐\n"
          ],
          "name": "stdout"
        }
      ]
    }
  ]
}