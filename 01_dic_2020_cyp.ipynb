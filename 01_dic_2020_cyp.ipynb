{
  "nbformat": 4,
  "nbformat_minor": 0,
  "metadata": {
    "colab": {
      "name": "01_dic_2020_cyp.ipynb",
      "provenance": [],
      "authorship_tag": "ABX9TyM9oZ9BRiYxErwTXv+LNP/+",
      "include_colab_link": true
    },
    "kernelspec": {
      "name": "python3",
      "display_name": "Python 3"
    }
  },
  "cells": [
    {
      "cell_type": "markdown",
      "metadata": {
        "id": "view-in-github",
        "colab_type": "text"
      },
      "source": [
        "<a href=\"https://colab.research.google.com/github/Montse-Cuarz/CyP.2020.1157/blob/main/01_dic_2020_cyp.ipynb\" target=\"_parent\"><img src=\"https://colab.research.google.com/assets/colab-badge.svg\" alt=\"Open In Colab\"/></a>"
      ]
    },
    {
      "cell_type": "code",
      "metadata": {
        "id": "S4gsnWQ1TGre"
      },
      "source": [
        "#Ejemplo 1\n",
        "#Pedir 3 números enteros y mostrar el mayor de los tres\n",
        "\n",
        "numero1=int (input(\"Ingrese un número: \\n\"))\n",
        "numero2=int (input(\"Ingrese un número: \\n\"))\n",
        "numero3=int (input(\"Ingrese un número: \\n\"))\n",
        "\n",
        "if (numero1>=numero2) and (numero1>=numero3):\n",
        "  print(f\"{numero1} es mayor a los otros números\")\n",
        "\n",
        "elif (numero2>=numero1) and (numero2>=numero3):\n",
        "  print(f\"{numero2} es mayor a los otros números\") \n",
        "\n",
        "elif (numero3>=numero1) and (numero3>=numero2):\n",
        "  print(f\"{numero3} es mayor a los otros números\") \n"
      ],
      "execution_count": null,
      "outputs": []
    },
    {
      "cell_type": "code",
      "metadata": {
        "id": "4iHH5_-GVaSw"
      },
      "source": [
        "#Ejemplo 2\n",
        "print(\"Ingrese el nombre del trabajador\")\n",
        "nombre=str (input())\n",
        "print(\"¿Cuantas horas trabajo esta semana?\",nombre,\":\" )\n",
        "horas=int (input())\n",
        "print(\"¿Cuanto se le paga por hora?:\")\n",
        "sueldoH= float (input())\n",
        "\n",
        "#Evaluar su sueldo\n",
        "\n",
        "if (horas<=40):\n",
        "  pago = horas*sueldoH\n",
        "  print(nombre,\"Su pago total es de $\",pago)\n",
        "\n",
        "else:\n",
        "  extras = horas - 40\n",
        "  pago = 40*sueldoH\n",
        "  pagoFinal = pago + ((extras * sueldoH)*2)\n",
        "  print(nombre,\"Su pago total es de $\",pagoFinal)\n",
        "\n"
      ],
      "execution_count": null,
      "outputs": []
    },
    {
      "cell_type": "code",
      "metadata": {
        "id": "96p0VVf2ZNxg"
      },
      "source": [
        "#Ejemplo 3\n",
        "\n",
        "print(\"Ingrese el nombre del trabajador\")\n",
        "nombre=str (input())\n",
        "print(\"¿Cuantas horas trabajo esta semana?\",nombre,\":\" )\n",
        "horas=int (input())\n",
        "print(\"¿Cuanto se le paga por hora?:\")\n",
        "sueldoH= float (input())\n",
        "\n",
        "#Evaluar el sueldo\n",
        "\n",
        "if (horas<=40):\n",
        "  pago=horas*sueldoH\n",
        "  print(nombre, \"su sueldo final es de $\",pago,\"\\n\")\n",
        "\n",
        "elif ((horas>=41)and (horas<=50)):\n",
        "  extrasDobles = horas-40\n",
        "  print(\"Horas extras dobles:\",extrasDobles)\n",
        "  pago=40*sueldoH\n",
        "  print(\"Sueldo base: $\",pago)\n",
        "  pagoDoble=extrasDobles*(sueldoH*2)\n",
        "  print(\"Pago de horas dobles: $\",pagoDoble)\n",
        "  pagoFinal=pagoDoble+pago\n",
        "  print(nombre, \",su sueldo total es de $\",pagoFinal)\n",
        "\n",
        "elif ((horas>=51)and (horas<=60)):\n",
        "  extrasTriples = horas-50\n",
        "  print(\"Horas extras dobles: 10\")\n",
        "  print (\"Horas extras triples:\",extrasTriples)\n",
        "  pago=40*sueldoH\n",
        "  print(\"Sueldo base: $\",pago)\n",
        "  pagoDoble=10*(sueldoH*2)\n",
        "  print (\"Pago de horas extras dobles: $\",pagoDoble)\n",
        "  pagoTriple=extrasTriples*(sueldoH*3)\n",
        "  print(\"Pago de horas triples: $\",pagoTriple)\n",
        "  pagoFinal= pagoTriple + pagoDoble + pago\n",
        "  print(nombre, \",su sueldo total es de $\",pagoFinal)\n",
        "\n",
        "else :\n",
        "  extrasTriples=10\n",
        "  print(\"Horas extras dobles 10\")\n",
        "  print(\"Horas extras triples 10\")\n",
        "  pago=40*sueldoH\n",
        "  print(\"Suelo Base: $\", pago)\n",
        "  pagoDoble=10*(sueldoH*2)\n",
        "  print(\" Pago de horas extras dobles: $\",pagoDoble)\n",
        "  pagoTriple= extrasTriples*(sueldoH*3)\n",
        "  print(\"Pago de horas extra triples: $\",pagoTriple)\n",
        "  print(\"Incentivo por trabajar más de 60 horas: $2000\")\n",
        "  pagoFinal=pago+pagoDoble+pagoTriple+2000\n",
        "  print(nombre, \",su sueldo total es de $\", pagoFinal)\n",
        "\n"
      ],
      "execution_count": null,
      "outputs": []
    },
    {
      "cell_type": "code",
      "metadata": {
        "id": "RSpq2lCyogWC"
      },
      "source": [
        "#Estructura FOR\n",
        "#Ejemplo 1\n",
        "\n",
        "for estaciones_año in [\"primavera\",\"verano\",\"otoño\",\"invierno\",\"Venus\"]:\n",
        "  print(estaciones_año)\n",
        "\n",
        "#variable que suelen forma parte de FOR son \"i\"\n",
        "#j es una palabra reservada, elemento a recorrer\n"
      ],
      "execution_count": null,
      "outputs": []
    },
    {
      "cell_type": "code",
      "metadata": {
        "id": "LxgstJwrqYf4"
      },
      "source": [
        "for estaciones_año in [\"primavera\",\"verano\",\"otoño\",\"invierno\",\"Venus\"]:\n",
        "  print(\"hola\")\n",
        "\n"
      ],
      "execution_count": null,
      "outputs": []
    }
  ]
}