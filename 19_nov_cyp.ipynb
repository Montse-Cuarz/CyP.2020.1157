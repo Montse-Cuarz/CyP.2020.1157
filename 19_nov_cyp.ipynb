{
  "nbformat": 4,
  "nbformat_minor": 0,
  "metadata": {
    "colab": {
      "name": "19_nov_cyp.ipynb",
      "provenance": [],
      "authorship_tag": "ABX9TyN0pD7mI2cppIdwfr4Qisdy",
      "include_colab_link": true
    },
    "kernelspec": {
      "name": "python3",
      "display_name": "Python 3"
    }
  },
  "cells": [
    {
      "cell_type": "markdown",
      "metadata": {
        "id": "view-in-github",
        "colab_type": "text"
      },
      "source": [
        "<a href=\"https://colab.research.google.com/github/Montse-Cuarz/Programa-12-de-noviembre-del-2020/blob/main/19_nov_cyp.ipynb\" target=\"_parent\"><img src=\"https://colab.research.google.com/assets/colab-badge.svg\" alt=\"Open In Colab\"/></a>"
      ]
    },
    {
      "cell_type": "code",
      "metadata": {
        "id": "kT3vFsyuhDh_"
      },
      "source": [
        "#Concepto de asignación, de derecha a izquierda\n",
        "I = 0\n",
        "I = I + 1\n",
        "I = I + 1\n",
        "print(f\" I = { I } \")\n",
        "J= 5 ** 2 / 3\n",
        "print(f\" J = { J }\")"
      ],
      "execution_count": null,
      "outputs": []
    },
    {
      "cell_type": "code",
      "metadata": {
        "id": "Ju7Uhy2-mvzn"
      },
      "source": [
        "#Declaración de variables (reservando memoria)\n",
        "A = 0\n",
        "B = 0\n",
        "C = 0\n",
        "D = 0\n",
        "\n",
        "A = int(input (\"Dame un valor entero: \"))\n",
        "B = int(input (\"Dame un valor entero: \"))\n",
        "C = int(input (\"Dame un valor entero: \"))\n",
        "D = int(input (\"Dame un valor entero: \"))\n",
        "\n",
        "print(D)\n",
        "print(C)\n",
        "print(B)\n",
        "print(A)"
      ],
      "execution_count": null,
      "outputs": []
    },
    {
      "cell_type": "code",
      "metadata": {
        "id": "OqZAgwB7pMde"
      },
      "source": [
        "#Ejemplo 1.7\n",
        "A =0\n",
        "B =0\n",
        "RES=0\n",
        "\n",
        "A=int(input(\"Dame un entero:\\n\"))\n",
        "B=int(input(\"Dame otro entero:\\n\"))\n",
        "RES=(A+B)**2 /3\n",
        "print(RES)\n"
      ],
      "execution_count": null,
      "outputs": []
    },
    {
      "cell_type": "code",
      "metadata": {
        "id": "t1cgWOJmtu8l"
      },
      "source": [
        "#Ejemplo 1.8\n",
        "MAT = 0\n",
        "CAL1=0\n",
        "CAL2=0\n",
        "CAL3=0\n",
        "CAL4=0\n",
        "CAL5=0\n",
        "PRO=0\n",
        "\n",
        "MAT=int(input(\"Inserte su matricula:\\n\"))\n",
        "CAL1=float(input(\"Inserte su calificacion #1:\\n\"))\n",
        "CAL2=float(input(\"Inserte su calificacion #2:\\n\"))\n",
        "CAL3=float(input(\"Inserte su calificacion #3:\\n\"))\n",
        "CAL4=float(input(\"Inserte su calificacion #4:\\n\"))\n",
        "CAL5=float(input(\"Inserte su calificacion #5:\\n\"))\n",
        "\n",
        "PRO=(CAL1+CAL2+CAL3+CAL4+CAL5)/5\n",
        "\n",
        "print(f\"Su matricula es:\\n { MAT } \")\n",
        "print(f\"Su promedio es:\\n {PRO}\")"
      ],
      "execution_count": null,
      "outputs": []
    },
    {
      "cell_type": "code",
      "metadata": {
        "id": "R-tmRAHbxt89"
      },
      "source": [
        "#Ejemplo 1.9\n",
        "num=0\n",
        "cua=0\n",
        "cub=0\n",
        "\n",
        "num=int(input(\"Ingrese un entero \"))\n",
        "cua=num*num\n",
        "cub=num**3\n",
        "\n",
        "print(f\"El cuadrado de su nuemro es:  {cua}\")\n",
        "print(f\"El cubo de su nuemro  : {cub}\")"
      ],
      "execution_count": null,
      "outputs": []
    },
    {
      "cell_type": "code",
      "metadata": {
        "id": "OJzvbX_4zUa8"
      },
      "source": [
        "#Ejemplo 1.10\n",
        "base=0\n",
        "altura=0\n",
        "sup=0\n",
        "per=0\n",
        "base=float(input(\"Inserte la base del rectangualo \\n\"))\n",
        "altura=float(input(\"Inserte la altura del rectangualo \\n\"))\n",
        "\n",
        "sup=base*altura\n",
        "per=2*(base+altura)\n",
        "\n",
        "print(f\"El área el {sup} y el perimetro es {per}\")"
      ],
      "execution_count": null,
      "outputs": []
    }
  ]
}