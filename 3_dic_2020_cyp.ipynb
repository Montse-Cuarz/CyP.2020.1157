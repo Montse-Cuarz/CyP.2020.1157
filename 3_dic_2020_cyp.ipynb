{
  "nbformat": 4,
  "nbformat_minor": 0,
  "metadata": {
    "colab": {
      "name": "3_dic_2020_cyp.ipynb",
      "provenance": [],
      "authorship_tag": "ABX9TyM1Vi4ISikbplXKbJ35Mxzj",
      "include_colab_link": true
    },
    "kernelspec": {
      "name": "python3",
      "display_name": "Python 3"
    }
  },
  "cells": [
    {
      "cell_type": "markdown",
      "metadata": {
        "id": "view-in-github",
        "colab_type": "text"
      },
      "source": [
        "<a href=\"https://colab.research.google.com/github/Montse-Cuarz/CyP.2020.1157/blob/main/3_dic_2020_cyp.ipynb\" target=\"_parent\"><img src=\"https://colab.research.google.com/assets/colab-badge.svg\" alt=\"Open In Colab\"/></a>"
      ]
    },
    {
      "cell_type": "code",
      "metadata": {
        "id": "gMJWSYzjl7XE"
      },
      "source": [
        "#Ejemplo1\n",
        "\n",
        "for i in[1,2,3,5]:\n",
        " print(f\"El elemto: {i}\")"
      ],
      "execution_count": null,
      "outputs": []
    },
    {
      "cell_type": "code",
      "metadata": {
        "id": "e8stNhsZnUVD"
      },
      "source": [
        "coleccion=[1,2,3,4,5]\n",
        "for i in coleccion:\n",
        "  print(f\"El elemento: {i}\")"
      ],
      "execution_count": null,
      "outputs": []
    },
    {
      "cell_type": "code",
      "metadata": {
        "id": "qHefPlj5nsyP"
      },
      "source": [
        "#Ejemplo 2\n",
        "\n",
        "coleccion={\"Mario\":20, \"Mariana\":19, \"Yessica\":14, \"Luis\":18}\n",
        "for i in coleccion:\n",
        "  print(f\"Elemento: {i} \")"
      ],
      "execution_count": null,
      "outputs": []
    },
    {
      "cell_type": "code",
      "metadata": {
        "id": "VTSYREl3oskg"
      },
      "source": [
        "coleccion={\"Mario\":20, \"Mariana\":19, \"Yessica\":14, \"Luis\":18}\n",
        "for i in coleccion:\n",
        "  print(f\" {coleccion [i] }\")"
      ],
      "execution_count": null,
      "outputs": []
    },
    {
      "cell_type": "code",
      "metadata": {
        "id": "8NmESu4ypuUF"
      },
      "source": [
        "coleccion={\"Mario\":20, \"Mariana\":19, \"Yessica\":14, \"Luis\":18}\n",
        "for i in coleccion:\n",
        "  print(f\"{i} --> {coleccion[i]}\")"
      ],
      "execution_count": null,
      "outputs": []
    },
    {
      "cell_type": "code",
      "metadata": {
        "id": "bxiszr2-rWns"
      },
      "source": [
        "coleccion={\"Mario\":20, \"Mariana\":19, \"Yessica\":14, \"Luis\":18}\n",
        "for clave, valor in coleccion.items():\n",
        " print(f\"{clave} --> {valor}\")"
      ],
      "execution_count": null,
      "outputs": []
    },
    {
      "cell_type": "code",
      "metadata": {
        "id": "m7kduYkWsGGd"
      },
      "source": [
        "#Ejemplo 3\n",
        "\n",
        "email=False\n",
        "for i in \"ariel@unam.mx\":\n",
        "  if (i == \"@\"):\n",
        "    email=True\n",
        "\n",
        "if (email == True):\n",
        "  print(\"El email es correcto\")\n",
        "else:\n",
        "    print(\"El correo no es correcto\")"
      ],
      "execution_count": null,
      "outputs": []
    },
    {
      "cell_type": "code",
      "metadata": {
        "id": "HAkmGAOttexQ"
      },
      "source": [
        "email=False\n",
        "miEmail=str (input(\"Ingrese su correo electronico\"))\n",
        "\n",
        "for i in miEmail:\n",
        "  if (i == \"@\"):\n",
        "    email=True\n",
        "\n",
        "if (email == True):\n",
        "  print(\"El email es correcto\")\n",
        "else:\n",
        "    print(\"El correo no es correcto\")"
      ],
      "execution_count": null,
      "outputs": []
    },
    {
      "cell_type": "code",
      "metadata": {
        "id": "dK7vL0D5u8Ef"
      },
      "source": [
        "#For-Range\n",
        "\n",
        "for i in range (5):\n",
        "  print(\"hola\")"
      ],
      "execution_count": null,
      "outputs": []
    },
    {
      "cell_type": "code",
      "metadata": {
        "id": "0OI-QTO0vgpH"
      },
      "source": [
        "for i in range (5):\n",
        "  print(i)"
      ],
      "execution_count": null,
      "outputs": []
    },
    {
      "cell_type": "code",
      "metadata": {
        "id": "erViS2f7wRko"
      },
      "source": [
        "for i in range (20):\n",
        "  print(f\"Valor de la variable \",i)"
      ],
      "execution_count": null,
      "outputs": []
    },
    {
      "cell_type": "code",
      "metadata": {
        "id": "dvIDp_nSxVuq"
      },
      "source": [
        "#While (Mientras que) ejemplos\n",
        "#Ejemplo 1\n",
        "\n",
        "i=1\n",
        "while (i<=10):\n",
        " print(\"Ejecucion \"+ str(i))\n"
      ],
      "execution_count": null,
      "outputs": []
    },
    {
      "cell_type": "code",
      "metadata": {
        "id": "9xM4y3DMz2Zm"
      },
      "source": [
        "i=1\n",
        "while (i<=10):\n",
        " print(\"Ejecucion \"+ str(i))\n",
        "\n",
        " i=i+1 #Contador, es decir, incrementa en 1 la variable "
      ],
      "execution_count": null,
      "outputs": []
    },
    {
      "cell_type": "code",
      "metadata": {
        "id": "lUnVAUs_0sa2"
      },
      "source": [
        "edad=int(input(\"Introduce tu edad: \"))\n",
        "while (edad<0):\n",
        "  print(\"Haz introducido una edad negativa, intentelo de nuevo\")\n",
        "  edad=int(input(\"Introduce tu edad:\"))\n",
        "print(\"Gracias por participar. Puede pasar\")\n",
        "print(\"Edad del aspirante\"+str (edad))"
      ],
      "execution_count": null,
      "outputs": []
    },
    {
      "cell_type": "code",
      "metadata": {
        "id": "yCwewy1-10S-"
      },
      "source": [
        "edad=int(input(\"Introduce tu edad: \"))\n",
        "while ((edad<0) or (edad>=100)):\n",
        "  print(\"Haz introducido una edad negativa, intentelo de nuevo\")\n",
        "  edad=int(input(\"Introduce tu edad:\"))\n",
        "print(\"Gracias por participar. Puede pasar\")\n",
        "print(\"Edad del aspirante\"+str (edad))"
      ],
      "execution_count": null,
      "outputs": []
    }
  ]
}