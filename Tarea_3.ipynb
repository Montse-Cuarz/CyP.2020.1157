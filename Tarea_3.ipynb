{
  "nbformat": 4,
  "nbformat_minor": 0,
  "metadata": {
    "colab": {
      "name": "Tarea_3",
      "provenance": [],
      "authorship_tag": "ABX9TyMrH0xmO/XkixurXPZsXg84",
      "include_colab_link": true
    },
    "kernelspec": {
      "name": "python3",
      "display_name": "Python 3"
    }
  },
  "cells": [
    {
      "cell_type": "markdown",
      "metadata": {
        "id": "view-in-github",
        "colab_type": "text"
      },
      "source": [
        "<a href=\"https://colab.research.google.com/github/Montse-Cuarz/CyP.2020.1157/blob/main/Tarea_3.ipynb\" target=\"_parent\"><img src=\"https://colab.research.google.com/assets/colab-badge.svg\" alt=\"Open In Colab\"/></a>"
      ]
    },
    {
      "cell_type": "code",
      "metadata": {
        "id": "mhU71QEDYPAz"
      },
      "source": [
        "#Problema 1.1\n",
        "\n",
        "prepago=0\n",
        "pago=0\n",
        "devo=0\n",
        "\n",
        "prepago= float(input (\"Ingrese el valor del producto a comprar \\n\"))\n",
        "pago= float(input(\"Ingrese la cantidad que dio el cliente para pagar \\n\"))\n",
        "devo=pago-prepago\n",
        "print(f\"El cambio del cliente es de \\n ${devo}\")\n"
      ],
      "execution_count": null,
      "outputs": []
    },
    {
      "cell_type": "code",
      "metadata": {
        "id": "tM17cUIsasol"
      },
      "source": [
        "#Problema 1.2\n",
        "\n",
        "base=0\n",
        "altu=0\n",
        "sup=0\n",
        "\n",
        "base=float(input(\"Ingrese el valor de la base del triangulo a medir \\n\"))\n",
        "altu=float(input(\"Ingrse el valor de la altura del triangulo \\n\"))\n",
        "sup=(base*altu)/2\n",
        "print(f\"El área del triangulo es \\n {sup} u^2\")\n"
      ],
      "execution_count": null,
      "outputs": []
    },
    {
      "cell_type": "code",
      "metadata": {
        "id": "dc2dOX_WcRHo"
      },
      "source": [
        "#Problema 1.3\n",
        "nom=0\n",
        "peso=0\n",
        "lon=0\n",
        "peskil=0\n",
        "lonmet=0\n",
        "\n",
        "nom=str(input(\"Ingrese el nombre del dinosaurio \\n\"))\n",
        "peso=float(input(\"Ingrese el peso del dinosaurio en libras \\n\"))\n",
        "lon=float(input(\"Ingrese la longitud del dinosaurio en pies \\n\"))\n",
        "peskil=peso*1000\n",
        "lonmet=lon*0.3047\n",
        "\n",
        "print(f\" El nombre de su dinosaurio es \\n {nom} \\n Su peso en kilos es {peskil} kg\\n Su longitud en metros es {lonmet} m.\")\n"
      ],
      "execution_count": null,
      "outputs": []
    },
    {
      "cell_type": "code",
      "metadata": {
        "id": "wXL-ylXKh1wu"
      },
      "source": [
        "#Problema 1.4\n",
        "gal=0\n",
        "total=0\n",
        "\n",
        "gal=float(input(\"Ingrese la cantidad de galones que consumio \\n\"))\n",
        "total=(gal*3.785)*8.20\n",
        "\n",
        "print(f\" El total a pagar es \\n ${total}\")"
      ],
      "execution_count": null,
      "outputs": []
    },
    {
      "cell_type": "code",
      "metadata": {
        "id": "CFxGjOiTjMnA"
      },
      "source": [
        "#Problema 1.5\n",
        "radio=0\n",
        "altura=0\n",
        "vol=0\n",
        "are=0\n",
        "\n",
        "radio=float(input(\"Ingrese la medida del radio del cilindro \"))\n",
        "altura=float(input(\"Ingrese la altura del cilindro \"))\n",
        "vol=3.141592*(radio**2)*altura\n",
        "are=2*3.141592*radio*altura\n",
        "\n",
        "print(f\" El valor del volumen es \\n {vol} \\n El valor del área es \\n {are}\"  )"
      ],
      "execution_count": null,
      "outputs": []
    },
    {
      "cell_type": "code",
      "metadata": {
        "id": "78ZntTLglKWV"
      },
      "source": [
        "#Problema 1.6\n",
        "dias=0\n",
        "segundos=0\n",
        "\n",
        "dias=int(input(\"Ingrese un número de dias (enteros):  \"))\n",
        "segundos=dias*24*60*60\n",
        "\n",
        "print(f\" En {dias} dias, hay {segundos} segundos\")"
      ],
      "execution_count": null,
      "outputs": []
    }
  ]
}