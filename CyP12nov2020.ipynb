{
  "nbformat": 4,
  "nbformat_minor": 0,
  "metadata": {
    "colab": {
      "name": "CyP12nov2020.ipynb",
      "provenance": [],
      "authorship_tag": "ABX9TyPJIQt+w1aFMFbIdQ4bPohr",
      "include_colab_link": true
    },
    "kernelspec": {
      "name": "python3",
      "display_name": "Python 3"
    }
  },
  "cells": [
    {
      "cell_type": "markdown",
      "metadata": {
        "id": "view-in-github",
        "colab_type": "text"
      },
      "source": [
        "<a href=\"https://colab.research.google.com/github/Montse-Cuarz/Programa-12-de-noviembre-del-2020/blob/main/CyP12nov2020.ipynb\" target=\"_parent\"><img src=\"https://colab.research.google.com/assets/colab-badge.svg\" alt=\"Open In Colab\"/></a>"
      ]
    },
    {
      "cell_type": "code",
      "metadata": {
        "id": "qV-JJty3ba5q"
      },
      "source": [
        "numero=int (input(\"Dame un numero\\n\"))\n",
        "if numero >0:\n",
        "  print(\"El número es positivo\")\n",
        "\n",
        "print(\"\\nFin del programa\")\n"
      ],
      "execution_count": null,
      "outputs": []
    },
    {
      "cell_type": "code",
      "metadata": {
        "id": "JiQ4RFRVfBZ7"
      },
      "source": [
        "#ejemplo 2\n",
        "\n",
        "numero=int (input(\"Dame un numero\\n\"))\n",
        "if numero >0:\n",
        "  print(\"El número es positivo\")\n",
        "else: #sino imprime negativo\n",
        "  print(\"El número es negativo\")\n"
      ],
      "execution_count": null,
      "outputs": []
    },
    {
      "cell_type": "code",
      "metadata": {
        "id": "lgCW_Reeg2cU"
      },
      "source": [
        "#ejemplo 3\n",
        "\n",
        "numero=int(input(\"Dame un numero\\n\"))\n",
        "if numero >0:\n",
        "  print(\"El número es positivo\")\n",
        "elif numero ==0:\n",
        "  print(\"El número es cero\")\n",
        "\n",
        "else: #sino imprime negativo\n",
        "  print(\"El número es negativo\")\n",
        "\n",
        "print(\"Fin del programa\")"
      ],
      "execution_count": null,
      "outputs": []
    }
  ]
}